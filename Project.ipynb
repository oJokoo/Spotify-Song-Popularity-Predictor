{
 "cells": [
  {
   "cell_type": "code",
   "execution_count": 188,
   "id": "ad24067e",
   "metadata": {},
   "outputs": [],
   "source": [
    "import numpy as np\n",
    "import pandas as pd\n",
    "\n",
    "from sklearn.model_selection import train_test_split\n",
    "from sklearn.preprocessing import StandardScaler\n",
    "from sklearn.linear_model import LinearRegression\n",
    "from sklearn.linear_model import LogisticRegression\n",
    "from sklearn.neighbors import KNeighborsClassifier\n",
    "from sklearn.tree import DecisionTreeClassifier\n",
    "from sklearn.svm import LinearSVC, SVC\n",
    "from sklearn.neural_network import MLPClassifier\n",
    "from sklearn.ensemble import RandomForestClassifier, GradientBoostingClassifier\n",
    "from sklearn.metrics import r2_score\n",
    "from sklearn.metrics import mean_absolute_error, mean_squared_error, r2_score\n",
    "import seaborn as sns\n",
    "import matplotlib.pyplot as plt\n",
    "%matplotlib inline\n",
    "\n",
    "import warnings\n",
    "warnings.filterwarnings(action='ignore')"
   ]
  },
  {
   "cell_type": "code",
   "execution_count": 189,
   "id": "87443cec",
   "metadata": {},
   "outputs": [
    {
     "data": {
      "text/plain": [
       "[                     track_id  \\\n",
       " 0      6f807x0ima9a1j3VPbc7VN   \n",
       " 1      0r7CVbZTWZgbTCYdfa2P31   \n",
       " 2      1z1Hg7Vb0AhHDiEmnDE79l   \n",
       " 3      75FpbthrwQmzHlBJLuGdC7   \n",
       " 4      1e8PAfcKUYoKkxPhrHqw4x   \n",
       " ...                       ...   \n",
       " 32828  7bxnKAamR3snQ1VGLuVfC1   \n",
       " 32829  5Aevni09Em4575077nkWHz   \n",
       " 32830  7ImMqPP3Q1yfUHvsdn7wEo   \n",
       " 32831  2m69mhnfQ1Oq6lGtXuYhgX   \n",
       " 32832  29zWqhca3zt5NsckZqDf6c   \n",
       " \n",
       "                                               track_name      track_artist  \\\n",
       " 0      I Don't Care (with Justin Bieber) - Loud Luxur...        Ed Sheeran   \n",
       " 1                        Memories - Dillon Francis Remix          Maroon 5   \n",
       " 2                        All the Time - Don Diablo Remix      Zara Larsson   \n",
       " 3                      Call You Mine - Keanu Silva Remix  The Chainsmokers   \n",
       " 4                Someone You Loved - Future Humans Remix     Lewis Capaldi   \n",
       " ...                                                  ...               ...   \n",
       " 32828               City Of Lights - Official Radio Edit      Lush & Simon   \n",
       " 32829                Closer - Sultan & Ned Shepard Remix    Tegan and Sara   \n",
       " 32830                       Sweet Surrender - Radio Edit       Starkillers   \n",
       " 32831                     Only For You - Maor Levi Remix            Mat Zo   \n",
       " 32832                             Typhoon - Original Mix      Julian Calor   \n",
       " \n",
       "        track_popularity          track_album_id  \\\n",
       " 0                    66  2oCs0DGTsRO98Gh5ZSl2Cx   \n",
       " 1                    67  63rPSO264uRjW1X5E6cWv6   \n",
       " 2                    70  1HoSmj2eLcsrR0vE9gThr4   \n",
       " 3                    60  1nqYsOef1yKKuGOVchbsk6   \n",
       " 4                    69  7m7vv9wlQ4i0LFuJiE2zsQ   \n",
       " ...                 ...                     ...   \n",
       " 32828                42  2azRoBBWEEEYhqV6sb7JrT   \n",
       " 32829                20  6kD6KLxj7s8eCE3ABvAyf5   \n",
       " 32830                14  0ltWNSY9JgxoIZO4VzuCa6   \n",
       " 32831                15  1fGrOkHnHJcStl14zNx8Jy   \n",
       " 32832                27  0X3mUOm6MhxR7PzxG95rAo   \n",
       " \n",
       "                                         track_album_name  \\\n",
       " 0      I Don't Care (with Justin Bieber) [Loud Luxury...   \n",
       " 1                        Memories (Dillon Francis Remix)   \n",
       " 2                        All the Time (Don Diablo Remix)   \n",
       " 3                            Call You Mine - The Remixes   \n",
       " 4                Someone You Loved (Future Humans Remix)   \n",
       " ...                                                  ...   \n",
       " 32828                         City Of Lights (Vocal Mix)   \n",
       " 32829                                     Closer Remixed   \n",
       " 32830                       Sweet Surrender (Radio Edit)   \n",
       " 32831                             Only For You (Remixes)   \n",
       " 32832                                      Typhoon/Storm   \n",
       " \n",
       "       track_album_release_date    playlist_name             playlist_id  \\\n",
       " 0                   2019-06-14        Pop Remix  37i9dQZF1DXcZDD7cfEKhW   \n",
       " 1                   2019-12-13        Pop Remix  37i9dQZF1DXcZDD7cfEKhW   \n",
       " 2                   2019-07-05        Pop Remix  37i9dQZF1DXcZDD7cfEKhW   \n",
       " 3                   2019-07-19        Pop Remix  37i9dQZF1DXcZDD7cfEKhW   \n",
       " 4                   2019-03-05        Pop Remix  37i9dQZF1DXcZDD7cfEKhW   \n",
       " ...                        ...              ...                     ...   \n",
       " 32828               2014-04-28  ♥ EDM LOVE 2020  6jI1gFr6ANFtT8MmTvA2Ux   \n",
       " 32829               2013-03-08  ♥ EDM LOVE 2020  6jI1gFr6ANFtT8MmTvA2Ux   \n",
       " 32830               2014-04-21  ♥ EDM LOVE 2020  6jI1gFr6ANFtT8MmTvA2Ux   \n",
       " 32831               2014-01-01  ♥ EDM LOVE 2020  6jI1gFr6ANFtT8MmTvA2Ux   \n",
       " 32832               2014-03-03  ♥ EDM LOVE 2020  6jI1gFr6ANFtT8MmTvA2Ux   \n",
       " \n",
       "       playlist_genre  ... key  loudness  mode  speechiness  acousticness  \\\n",
       " 0                pop  ...   6    -2.634     1       0.0583      0.102000   \n",
       " 1                pop  ...  11    -4.969     1       0.0373      0.072400   \n",
       " 2                pop  ...   1    -3.432     0       0.0742      0.079400   \n",
       " 3                pop  ...   7    -3.778     1       0.1020      0.028700   \n",
       " 4                pop  ...   1    -4.672     1       0.0359      0.080300   \n",
       " ...              ...  ...  ..       ...   ...          ...           ...   \n",
       " 32828            edm  ...   2    -1.814     1       0.0936      0.076600   \n",
       " 32829            edm  ...   0    -4.462     1       0.0420      0.001710   \n",
       " 32830            edm  ...   6    -4.899     0       0.0481      0.108000   \n",
       " 32831            edm  ...   2    -3.361     1       0.1090      0.007920   \n",
       " 32832            edm  ...   5    -4.571     0       0.0385      0.000133   \n",
       " \n",
       "        instrumentalness  liveness  valence    tempo  duration_ms  \n",
       " 0              0.000000    0.0653   0.5180  122.036       194754  \n",
       " 1              0.004210    0.3570   0.6930   99.972       162600  \n",
       " 2              0.000023    0.1100   0.6130  124.008       176616  \n",
       " 3              0.000009    0.2040   0.2770  121.956       169093  \n",
       " 4              0.000000    0.0833   0.7250  123.976       189052  \n",
       " ...                 ...       ...      ...      ...          ...  \n",
       " 32828          0.000000    0.0668   0.2100  128.170       204375  \n",
       " 32829          0.004270    0.3750   0.4000  128.041       353120  \n",
       " 32830          0.000001    0.1500   0.4360  127.989       210112  \n",
       " 32831          0.127000    0.3430   0.3080  128.008       367432  \n",
       " 32832          0.341000    0.7420   0.0894  127.984       337500  \n",
       " \n",
       " [32833 rows x 23 columns]]"
      ]
     },
     "execution_count": 189,
     "metadata": {},
     "output_type": "execute_result"
    }
   ],
   "source": [
    "dfs = [pd.read_csv('https://raw.githubusercontent.com/rfordatascience/tidytuesday/master/data/2020/2020-01-21/spotify_songs.csv')]\n",
    "\n",
    "dfs"
   ]
  },
  {
   "cell_type": "code",
   "execution_count": 190,
   "id": "30b2afad",
   "metadata": {},
   "outputs": [],
   "source": [
    "data = pd.concat(dfs, axis=0).dropna(axis = 0)"
   ]
  },
  {
   "cell_type": "code",
   "execution_count": 191,
   "id": "5994de8a",
   "metadata": {},
   "outputs": [
    {
     "data": {
      "text/html": [
       "<div>\n",
       "<style scoped>\n",
       "    .dataframe tbody tr th:only-of-type {\n",
       "        vertical-align: middle;\n",
       "    }\n",
       "\n",
       "    .dataframe tbody tr th {\n",
       "        vertical-align: top;\n",
       "    }\n",
       "\n",
       "    .dataframe thead th {\n",
       "        text-align: right;\n",
       "    }\n",
       "</style>\n",
       "<table border=\"1\" class=\"dataframe\">\n",
       "  <thead>\n",
       "    <tr style=\"text-align: right;\">\n",
       "      <th></th>\n",
       "      <th>track_id</th>\n",
       "      <th>track_name</th>\n",
       "      <th>track_artist</th>\n",
       "      <th>track_popularity</th>\n",
       "      <th>track_album_id</th>\n",
       "      <th>track_album_name</th>\n",
       "      <th>track_album_release_date</th>\n",
       "      <th>playlist_name</th>\n",
       "      <th>playlist_id</th>\n",
       "      <th>playlist_genre</th>\n",
       "      <th>...</th>\n",
       "      <th>key</th>\n",
       "      <th>loudness</th>\n",
       "      <th>mode</th>\n",
       "      <th>speechiness</th>\n",
       "      <th>acousticness</th>\n",
       "      <th>instrumentalness</th>\n",
       "      <th>liveness</th>\n",
       "      <th>valence</th>\n",
       "      <th>tempo</th>\n",
       "      <th>duration_ms</th>\n",
       "    </tr>\n",
       "  </thead>\n",
       "  <tbody>\n",
       "    <tr>\n",
       "      <th>0</th>\n",
       "      <td>6f807x0ima9a1j3VPbc7VN</td>\n",
       "      <td>I Don't Care (with Justin Bieber) - Loud Luxur...</td>\n",
       "      <td>Ed Sheeran</td>\n",
       "      <td>66</td>\n",
       "      <td>2oCs0DGTsRO98Gh5ZSl2Cx</td>\n",
       "      <td>I Don't Care (with Justin Bieber) [Loud Luxury...</td>\n",
       "      <td>2019-06-14</td>\n",
       "      <td>Pop Remix</td>\n",
       "      <td>37i9dQZF1DXcZDD7cfEKhW</td>\n",
       "      <td>pop</td>\n",
       "      <td>...</td>\n",
       "      <td>6</td>\n",
       "      <td>-2.634</td>\n",
       "      <td>1</td>\n",
       "      <td>0.0583</td>\n",
       "      <td>0.1020</td>\n",
       "      <td>0.000000</td>\n",
       "      <td>0.0653</td>\n",
       "      <td>0.518</td>\n",
       "      <td>122.036</td>\n",
       "      <td>194754</td>\n",
       "    </tr>\n",
       "    <tr>\n",
       "      <th>1</th>\n",
       "      <td>0r7CVbZTWZgbTCYdfa2P31</td>\n",
       "      <td>Memories - Dillon Francis Remix</td>\n",
       "      <td>Maroon 5</td>\n",
       "      <td>67</td>\n",
       "      <td>63rPSO264uRjW1X5E6cWv6</td>\n",
       "      <td>Memories (Dillon Francis Remix)</td>\n",
       "      <td>2019-12-13</td>\n",
       "      <td>Pop Remix</td>\n",
       "      <td>37i9dQZF1DXcZDD7cfEKhW</td>\n",
       "      <td>pop</td>\n",
       "      <td>...</td>\n",
       "      <td>11</td>\n",
       "      <td>-4.969</td>\n",
       "      <td>1</td>\n",
       "      <td>0.0373</td>\n",
       "      <td>0.0724</td>\n",
       "      <td>0.004210</td>\n",
       "      <td>0.3570</td>\n",
       "      <td>0.693</td>\n",
       "      <td>99.972</td>\n",
       "      <td>162600</td>\n",
       "    </tr>\n",
       "    <tr>\n",
       "      <th>2</th>\n",
       "      <td>1z1Hg7Vb0AhHDiEmnDE79l</td>\n",
       "      <td>All the Time - Don Diablo Remix</td>\n",
       "      <td>Zara Larsson</td>\n",
       "      <td>70</td>\n",
       "      <td>1HoSmj2eLcsrR0vE9gThr4</td>\n",
       "      <td>All the Time (Don Diablo Remix)</td>\n",
       "      <td>2019-07-05</td>\n",
       "      <td>Pop Remix</td>\n",
       "      <td>37i9dQZF1DXcZDD7cfEKhW</td>\n",
       "      <td>pop</td>\n",
       "      <td>...</td>\n",
       "      <td>1</td>\n",
       "      <td>-3.432</td>\n",
       "      <td>0</td>\n",
       "      <td>0.0742</td>\n",
       "      <td>0.0794</td>\n",
       "      <td>0.000023</td>\n",
       "      <td>0.1100</td>\n",
       "      <td>0.613</td>\n",
       "      <td>124.008</td>\n",
       "      <td>176616</td>\n",
       "    </tr>\n",
       "    <tr>\n",
       "      <th>3</th>\n",
       "      <td>75FpbthrwQmzHlBJLuGdC7</td>\n",
       "      <td>Call You Mine - Keanu Silva Remix</td>\n",
       "      <td>The Chainsmokers</td>\n",
       "      <td>60</td>\n",
       "      <td>1nqYsOef1yKKuGOVchbsk6</td>\n",
       "      <td>Call You Mine - The Remixes</td>\n",
       "      <td>2019-07-19</td>\n",
       "      <td>Pop Remix</td>\n",
       "      <td>37i9dQZF1DXcZDD7cfEKhW</td>\n",
       "      <td>pop</td>\n",
       "      <td>...</td>\n",
       "      <td>7</td>\n",
       "      <td>-3.778</td>\n",
       "      <td>1</td>\n",
       "      <td>0.1020</td>\n",
       "      <td>0.0287</td>\n",
       "      <td>0.000009</td>\n",
       "      <td>0.2040</td>\n",
       "      <td>0.277</td>\n",
       "      <td>121.956</td>\n",
       "      <td>169093</td>\n",
       "    </tr>\n",
       "    <tr>\n",
       "      <th>4</th>\n",
       "      <td>1e8PAfcKUYoKkxPhrHqw4x</td>\n",
       "      <td>Someone You Loved - Future Humans Remix</td>\n",
       "      <td>Lewis Capaldi</td>\n",
       "      <td>69</td>\n",
       "      <td>7m7vv9wlQ4i0LFuJiE2zsQ</td>\n",
       "      <td>Someone You Loved (Future Humans Remix)</td>\n",
       "      <td>2019-03-05</td>\n",
       "      <td>Pop Remix</td>\n",
       "      <td>37i9dQZF1DXcZDD7cfEKhW</td>\n",
       "      <td>pop</td>\n",
       "      <td>...</td>\n",
       "      <td>1</td>\n",
       "      <td>-4.672</td>\n",
       "      <td>1</td>\n",
       "      <td>0.0359</td>\n",
       "      <td>0.0803</td>\n",
       "      <td>0.000000</td>\n",
       "      <td>0.0833</td>\n",
       "      <td>0.725</td>\n",
       "      <td>123.976</td>\n",
       "      <td>189052</td>\n",
       "    </tr>\n",
       "  </tbody>\n",
       "</table>\n",
       "<p>5 rows × 23 columns</p>\n",
       "</div>"
      ],
      "text/plain": [
       "                 track_id                                         track_name  \\\n",
       "0  6f807x0ima9a1j3VPbc7VN  I Don't Care (with Justin Bieber) - Loud Luxur...   \n",
       "1  0r7CVbZTWZgbTCYdfa2P31                    Memories - Dillon Francis Remix   \n",
       "2  1z1Hg7Vb0AhHDiEmnDE79l                    All the Time - Don Diablo Remix   \n",
       "3  75FpbthrwQmzHlBJLuGdC7                  Call You Mine - Keanu Silva Remix   \n",
       "4  1e8PAfcKUYoKkxPhrHqw4x            Someone You Loved - Future Humans Remix   \n",
       "\n",
       "       track_artist  track_popularity          track_album_id  \\\n",
       "0        Ed Sheeran                66  2oCs0DGTsRO98Gh5ZSl2Cx   \n",
       "1          Maroon 5                67  63rPSO264uRjW1X5E6cWv6   \n",
       "2      Zara Larsson                70  1HoSmj2eLcsrR0vE9gThr4   \n",
       "3  The Chainsmokers                60  1nqYsOef1yKKuGOVchbsk6   \n",
       "4     Lewis Capaldi                69  7m7vv9wlQ4i0LFuJiE2zsQ   \n",
       "\n",
       "                                    track_album_name track_album_release_date  \\\n",
       "0  I Don't Care (with Justin Bieber) [Loud Luxury...               2019-06-14   \n",
       "1                    Memories (Dillon Francis Remix)               2019-12-13   \n",
       "2                    All the Time (Don Diablo Remix)               2019-07-05   \n",
       "3                        Call You Mine - The Remixes               2019-07-19   \n",
       "4            Someone You Loved (Future Humans Remix)               2019-03-05   \n",
       "\n",
       "  playlist_name             playlist_id playlist_genre  ... key  loudness  \\\n",
       "0     Pop Remix  37i9dQZF1DXcZDD7cfEKhW            pop  ...   6    -2.634   \n",
       "1     Pop Remix  37i9dQZF1DXcZDD7cfEKhW            pop  ...  11    -4.969   \n",
       "2     Pop Remix  37i9dQZF1DXcZDD7cfEKhW            pop  ...   1    -3.432   \n",
       "3     Pop Remix  37i9dQZF1DXcZDD7cfEKhW            pop  ...   7    -3.778   \n",
       "4     Pop Remix  37i9dQZF1DXcZDD7cfEKhW            pop  ...   1    -4.672   \n",
       "\n",
       "   mode  speechiness  acousticness  instrumentalness  liveness  valence  \\\n",
       "0     1       0.0583        0.1020          0.000000    0.0653    0.518   \n",
       "1     1       0.0373        0.0724          0.004210    0.3570    0.693   \n",
       "2     0       0.0742        0.0794          0.000023    0.1100    0.613   \n",
       "3     1       0.1020        0.0287          0.000009    0.2040    0.277   \n",
       "4     1       0.0359        0.0803          0.000000    0.0833    0.725   \n",
       "\n",
       "     tempo  duration_ms  \n",
       "0  122.036       194754  \n",
       "1   99.972       162600  \n",
       "2  124.008       176616  \n",
       "3  121.956       169093  \n",
       "4  123.976       189052  \n",
       "\n",
       "[5 rows x 23 columns]"
      ]
     },
     "execution_count": 191,
     "metadata": {},
     "output_type": "execute_result"
    }
   ],
   "source": [
    "data.head(5)"
   ]
  },
  {
   "cell_type": "code",
   "execution_count": 192,
   "id": "7c404613",
   "metadata": {},
   "outputs": [],
   "source": [
    "explorationDF = data[:1000]"
   ]
  },
  {
   "cell_type": "code",
   "execution_count": 193,
   "id": "0bd131b1",
   "metadata": {},
   "outputs": [
    {
     "data": {
      "text/html": [
       "<div>\n",
       "<style scoped>\n",
       "    .dataframe tbody tr th:only-of-type {\n",
       "        vertical-align: middle;\n",
       "    }\n",
       "\n",
       "    .dataframe tbody tr th {\n",
       "        vertical-align: top;\n",
       "    }\n",
       "\n",
       "    .dataframe thead th {\n",
       "        text-align: right;\n",
       "    }\n",
       "</style>\n",
       "<table border=\"1\" class=\"dataframe\">\n",
       "  <thead>\n",
       "    <tr style=\"text-align: right;\">\n",
       "      <th></th>\n",
       "      <th>track_id</th>\n",
       "      <th>track_name</th>\n",
       "      <th>track_artist</th>\n",
       "      <th>track_popularity</th>\n",
       "      <th>track_album_id</th>\n",
       "      <th>track_album_name</th>\n",
       "      <th>track_album_release_date</th>\n",
       "      <th>playlist_name</th>\n",
       "      <th>playlist_id</th>\n",
       "      <th>playlist_genre</th>\n",
       "      <th>...</th>\n",
       "      <th>key</th>\n",
       "      <th>loudness</th>\n",
       "      <th>mode</th>\n",
       "      <th>speechiness</th>\n",
       "      <th>acousticness</th>\n",
       "      <th>instrumentalness</th>\n",
       "      <th>liveness</th>\n",
       "      <th>valence</th>\n",
       "      <th>tempo</th>\n",
       "      <th>duration_ms</th>\n",
       "    </tr>\n",
       "  </thead>\n",
       "  <tbody>\n",
       "    <tr>\n",
       "      <th>0</th>\n",
       "      <td>6f807x0ima9a1j3VPbc7VN</td>\n",
       "      <td>I Don't Care (with Justin Bieber) - Loud Luxur...</td>\n",
       "      <td>Ed Sheeran</td>\n",
       "      <td>66</td>\n",
       "      <td>2oCs0DGTsRO98Gh5ZSl2Cx</td>\n",
       "      <td>I Don't Care (with Justin Bieber) [Loud Luxury...</td>\n",
       "      <td>2019-06-14</td>\n",
       "      <td>Pop Remix</td>\n",
       "      <td>37i9dQZF1DXcZDD7cfEKhW</td>\n",
       "      <td>pop</td>\n",
       "      <td>...</td>\n",
       "      <td>6</td>\n",
       "      <td>-2.634</td>\n",
       "      <td>1</td>\n",
       "      <td>0.0583</td>\n",
       "      <td>0.10200</td>\n",
       "      <td>0.000000</td>\n",
       "      <td>0.0653</td>\n",
       "      <td>0.518</td>\n",
       "      <td>122.036</td>\n",
       "      <td>194754</td>\n",
       "    </tr>\n",
       "    <tr>\n",
       "      <th>1</th>\n",
       "      <td>0r7CVbZTWZgbTCYdfa2P31</td>\n",
       "      <td>Memories - Dillon Francis Remix</td>\n",
       "      <td>Maroon 5</td>\n",
       "      <td>67</td>\n",
       "      <td>63rPSO264uRjW1X5E6cWv6</td>\n",
       "      <td>Memories (Dillon Francis Remix)</td>\n",
       "      <td>2019-12-13</td>\n",
       "      <td>Pop Remix</td>\n",
       "      <td>37i9dQZF1DXcZDD7cfEKhW</td>\n",
       "      <td>pop</td>\n",
       "      <td>...</td>\n",
       "      <td>11</td>\n",
       "      <td>-4.969</td>\n",
       "      <td>1</td>\n",
       "      <td>0.0373</td>\n",
       "      <td>0.07240</td>\n",
       "      <td>0.004210</td>\n",
       "      <td>0.3570</td>\n",
       "      <td>0.693</td>\n",
       "      <td>99.972</td>\n",
       "      <td>162600</td>\n",
       "    </tr>\n",
       "    <tr>\n",
       "      <th>2</th>\n",
       "      <td>1z1Hg7Vb0AhHDiEmnDE79l</td>\n",
       "      <td>All the Time - Don Diablo Remix</td>\n",
       "      <td>Zara Larsson</td>\n",
       "      <td>70</td>\n",
       "      <td>1HoSmj2eLcsrR0vE9gThr4</td>\n",
       "      <td>All the Time (Don Diablo Remix)</td>\n",
       "      <td>2019-07-05</td>\n",
       "      <td>Pop Remix</td>\n",
       "      <td>37i9dQZF1DXcZDD7cfEKhW</td>\n",
       "      <td>pop</td>\n",
       "      <td>...</td>\n",
       "      <td>1</td>\n",
       "      <td>-3.432</td>\n",
       "      <td>0</td>\n",
       "      <td>0.0742</td>\n",
       "      <td>0.07940</td>\n",
       "      <td>0.000023</td>\n",
       "      <td>0.1100</td>\n",
       "      <td>0.613</td>\n",
       "      <td>124.008</td>\n",
       "      <td>176616</td>\n",
       "    </tr>\n",
       "    <tr>\n",
       "      <th>3</th>\n",
       "      <td>75FpbthrwQmzHlBJLuGdC7</td>\n",
       "      <td>Call You Mine - Keanu Silva Remix</td>\n",
       "      <td>The Chainsmokers</td>\n",
       "      <td>60</td>\n",
       "      <td>1nqYsOef1yKKuGOVchbsk6</td>\n",
       "      <td>Call You Mine - The Remixes</td>\n",
       "      <td>2019-07-19</td>\n",
       "      <td>Pop Remix</td>\n",
       "      <td>37i9dQZF1DXcZDD7cfEKhW</td>\n",
       "      <td>pop</td>\n",
       "      <td>...</td>\n",
       "      <td>7</td>\n",
       "      <td>-3.778</td>\n",
       "      <td>1</td>\n",
       "      <td>0.1020</td>\n",
       "      <td>0.02870</td>\n",
       "      <td>0.000009</td>\n",
       "      <td>0.2040</td>\n",
       "      <td>0.277</td>\n",
       "      <td>121.956</td>\n",
       "      <td>169093</td>\n",
       "    </tr>\n",
       "    <tr>\n",
       "      <th>4</th>\n",
       "      <td>1e8PAfcKUYoKkxPhrHqw4x</td>\n",
       "      <td>Someone You Loved - Future Humans Remix</td>\n",
       "      <td>Lewis Capaldi</td>\n",
       "      <td>69</td>\n",
       "      <td>7m7vv9wlQ4i0LFuJiE2zsQ</td>\n",
       "      <td>Someone You Loved (Future Humans Remix)</td>\n",
       "      <td>2019-03-05</td>\n",
       "      <td>Pop Remix</td>\n",
       "      <td>37i9dQZF1DXcZDD7cfEKhW</td>\n",
       "      <td>pop</td>\n",
       "      <td>...</td>\n",
       "      <td>1</td>\n",
       "      <td>-4.672</td>\n",
       "      <td>1</td>\n",
       "      <td>0.0359</td>\n",
       "      <td>0.08030</td>\n",
       "      <td>0.000000</td>\n",
       "      <td>0.0833</td>\n",
       "      <td>0.725</td>\n",
       "      <td>123.976</td>\n",
       "      <td>189052</td>\n",
       "    </tr>\n",
       "    <tr>\n",
       "      <th>...</th>\n",
       "      <td>...</td>\n",
       "      <td>...</td>\n",
       "      <td>...</td>\n",
       "      <td>...</td>\n",
       "      <td>...</td>\n",
       "      <td>...</td>\n",
       "      <td>...</td>\n",
       "      <td>...</td>\n",
       "      <td>...</td>\n",
       "      <td>...</td>\n",
       "      <td>...</td>\n",
       "      <td>...</td>\n",
       "      <td>...</td>\n",
       "      <td>...</td>\n",
       "      <td>...</td>\n",
       "      <td>...</td>\n",
       "      <td>...</td>\n",
       "      <td>...</td>\n",
       "      <td>...</td>\n",
       "      <td>...</td>\n",
       "      <td>...</td>\n",
       "    </tr>\n",
       "    <tr>\n",
       "      <th>995</th>\n",
       "      <td>0ZX44GyxjAWC4dbi9MmiUS</td>\n",
       "      <td>Dancing By Yourself</td>\n",
       "      <td>Junior Sanchez</td>\n",
       "      <td>40</td>\n",
       "      <td>7BlAaka3ZPQmnfzF0GsVEE</td>\n",
       "      <td>Dancing By Yourself</td>\n",
       "      <td>2019-06-14</td>\n",
       "      <td>Pop Dance Hits</td>\n",
       "      <td>7eERKCkgNKCCx5GYdeMIZf</td>\n",
       "      <td>pop</td>\n",
       "      <td>...</td>\n",
       "      <td>10</td>\n",
       "      <td>-7.174</td>\n",
       "      <td>0</td>\n",
       "      <td>0.0751</td>\n",
       "      <td>0.01900</td>\n",
       "      <td>0.000696</td>\n",
       "      <td>0.0554</td>\n",
       "      <td>0.720</td>\n",
       "      <td>123.004</td>\n",
       "      <td>185041</td>\n",
       "    </tr>\n",
       "    <tr>\n",
       "      <th>996</th>\n",
       "      <td>323eANs4Kha72cH6LjR10A</td>\n",
       "      <td>Hurt U</td>\n",
       "      <td>EAUXMAR</td>\n",
       "      <td>40</td>\n",
       "      <td>4o3G5jkb2iGQPzIsXiLYa3</td>\n",
       "      <td>Hurt U</td>\n",
       "      <td>2019-01-18</td>\n",
       "      <td>Pop Dance Hits</td>\n",
       "      <td>7eERKCkgNKCCx5GYdeMIZf</td>\n",
       "      <td>pop</td>\n",
       "      <td>...</td>\n",
       "      <td>1</td>\n",
       "      <td>-7.608</td>\n",
       "      <td>0</td>\n",
       "      <td>0.0419</td>\n",
       "      <td>0.34900</td>\n",
       "      <td>0.002150</td>\n",
       "      <td>0.1350</td>\n",
       "      <td>0.223</td>\n",
       "      <td>114.013</td>\n",
       "      <td>187368</td>\n",
       "    </tr>\n",
       "    <tr>\n",
       "      <th>997</th>\n",
       "      <td>3ODZO5cBfM9S0wQSMhBSjg</td>\n",
       "      <td>It Ain't Over</td>\n",
       "      <td>Funk Machine</td>\n",
       "      <td>25</td>\n",
       "      <td>2FCnRxbazceZaXT3Kma6i2</td>\n",
       "      <td>It Ain't Over</td>\n",
       "      <td>2019-06-07</td>\n",
       "      <td>Pop Dance Hits</td>\n",
       "      <td>7eERKCkgNKCCx5GYdeMIZf</td>\n",
       "      <td>pop</td>\n",
       "      <td>...</td>\n",
       "      <td>8</td>\n",
       "      <td>-5.182</td>\n",
       "      <td>1</td>\n",
       "      <td>0.0349</td>\n",
       "      <td>0.00363</td>\n",
       "      <td>0.000000</td>\n",
       "      <td>0.0659</td>\n",
       "      <td>0.397</td>\n",
       "      <td>80.059</td>\n",
       "      <td>183375</td>\n",
       "    </tr>\n",
       "    <tr>\n",
       "      <th>998</th>\n",
       "      <td>1RbgdZhU9FOKFbDZZKOMrv</td>\n",
       "      <td>Shadows (feat. Veronica)</td>\n",
       "      <td>Adam K</td>\n",
       "      <td>44</td>\n",
       "      <td>2qrOPZcexgBsPApRmUSY66</td>\n",
       "      <td>Shadows (feat. Veronica)</td>\n",
       "      <td>2019-05-10</td>\n",
       "      <td>Pop Dance Hits</td>\n",
       "      <td>7eERKCkgNKCCx5GYdeMIZf</td>\n",
       "      <td>pop</td>\n",
       "      <td>...</td>\n",
       "      <td>6</td>\n",
       "      <td>-6.062</td>\n",
       "      <td>0</td>\n",
       "      <td>0.0435</td>\n",
       "      <td>0.10700</td>\n",
       "      <td>0.003720</td>\n",
       "      <td>0.2610</td>\n",
       "      <td>0.476</td>\n",
       "      <td>117.969</td>\n",
       "      <td>182034</td>\n",
       "    </tr>\n",
       "    <tr>\n",
       "      <th>999</th>\n",
       "      <td>7yQuDwalzZvPiA94r0mlRY</td>\n",
       "      <td>Preach</td>\n",
       "      <td>Watermät</td>\n",
       "      <td>40</td>\n",
       "      <td>10RhNRvhkKT1uUJmlVeCTR</td>\n",
       "      <td>Preach</td>\n",
       "      <td>2019-02-11</td>\n",
       "      <td>Pop Dance Hits</td>\n",
       "      <td>7eERKCkgNKCCx5GYdeMIZf</td>\n",
       "      <td>pop</td>\n",
       "      <td>...</td>\n",
       "      <td>6</td>\n",
       "      <td>-4.007</td>\n",
       "      <td>1</td>\n",
       "      <td>0.0673</td>\n",
       "      <td>0.00614</td>\n",
       "      <td>0.775000</td>\n",
       "      <td>0.0351</td>\n",
       "      <td>0.679</td>\n",
       "      <td>123.986</td>\n",
       "      <td>181940</td>\n",
       "    </tr>\n",
       "  </tbody>\n",
       "</table>\n",
       "<p>1000 rows × 23 columns</p>\n",
       "</div>"
      ],
      "text/plain": [
       "                   track_id  \\\n",
       "0    6f807x0ima9a1j3VPbc7VN   \n",
       "1    0r7CVbZTWZgbTCYdfa2P31   \n",
       "2    1z1Hg7Vb0AhHDiEmnDE79l   \n",
       "3    75FpbthrwQmzHlBJLuGdC7   \n",
       "4    1e8PAfcKUYoKkxPhrHqw4x   \n",
       "..                      ...   \n",
       "995  0ZX44GyxjAWC4dbi9MmiUS   \n",
       "996  323eANs4Kha72cH6LjR10A   \n",
       "997  3ODZO5cBfM9S0wQSMhBSjg   \n",
       "998  1RbgdZhU9FOKFbDZZKOMrv   \n",
       "999  7yQuDwalzZvPiA94r0mlRY   \n",
       "\n",
       "                                            track_name      track_artist  \\\n",
       "0    I Don't Care (with Justin Bieber) - Loud Luxur...        Ed Sheeran   \n",
       "1                      Memories - Dillon Francis Remix          Maroon 5   \n",
       "2                      All the Time - Don Diablo Remix      Zara Larsson   \n",
       "3                    Call You Mine - Keanu Silva Remix  The Chainsmokers   \n",
       "4              Someone You Loved - Future Humans Remix     Lewis Capaldi   \n",
       "..                                                 ...               ...   \n",
       "995                                Dancing By Yourself    Junior Sanchez   \n",
       "996                                             Hurt U           EAUXMAR   \n",
       "997                                      It Ain't Over      Funk Machine   \n",
       "998                           Shadows (feat. Veronica)            Adam K   \n",
       "999                                             Preach          Watermät   \n",
       "\n",
       "     track_popularity          track_album_id  \\\n",
       "0                  66  2oCs0DGTsRO98Gh5ZSl2Cx   \n",
       "1                  67  63rPSO264uRjW1X5E6cWv6   \n",
       "2                  70  1HoSmj2eLcsrR0vE9gThr4   \n",
       "3                  60  1nqYsOef1yKKuGOVchbsk6   \n",
       "4                  69  7m7vv9wlQ4i0LFuJiE2zsQ   \n",
       "..                ...                     ...   \n",
       "995                40  7BlAaka3ZPQmnfzF0GsVEE   \n",
       "996                40  4o3G5jkb2iGQPzIsXiLYa3   \n",
       "997                25  2FCnRxbazceZaXT3Kma6i2   \n",
       "998                44  2qrOPZcexgBsPApRmUSY66   \n",
       "999                40  10RhNRvhkKT1uUJmlVeCTR   \n",
       "\n",
       "                                      track_album_name  \\\n",
       "0    I Don't Care (with Justin Bieber) [Loud Luxury...   \n",
       "1                      Memories (Dillon Francis Remix)   \n",
       "2                      All the Time (Don Diablo Remix)   \n",
       "3                          Call You Mine - The Remixes   \n",
       "4              Someone You Loved (Future Humans Remix)   \n",
       "..                                                 ...   \n",
       "995                                Dancing By Yourself   \n",
       "996                                             Hurt U   \n",
       "997                                      It Ain't Over   \n",
       "998                           Shadows (feat. Veronica)   \n",
       "999                                             Preach   \n",
       "\n",
       "    track_album_release_date   playlist_name             playlist_id  \\\n",
       "0                 2019-06-14       Pop Remix  37i9dQZF1DXcZDD7cfEKhW   \n",
       "1                 2019-12-13       Pop Remix  37i9dQZF1DXcZDD7cfEKhW   \n",
       "2                 2019-07-05       Pop Remix  37i9dQZF1DXcZDD7cfEKhW   \n",
       "3                 2019-07-19       Pop Remix  37i9dQZF1DXcZDD7cfEKhW   \n",
       "4                 2019-03-05       Pop Remix  37i9dQZF1DXcZDD7cfEKhW   \n",
       "..                       ...             ...                     ...   \n",
       "995               2019-06-14  Pop Dance Hits  7eERKCkgNKCCx5GYdeMIZf   \n",
       "996               2019-01-18  Pop Dance Hits  7eERKCkgNKCCx5GYdeMIZf   \n",
       "997               2019-06-07  Pop Dance Hits  7eERKCkgNKCCx5GYdeMIZf   \n",
       "998               2019-05-10  Pop Dance Hits  7eERKCkgNKCCx5GYdeMIZf   \n",
       "999               2019-02-11  Pop Dance Hits  7eERKCkgNKCCx5GYdeMIZf   \n",
       "\n",
       "    playlist_genre  ... key  loudness  mode  speechiness  acousticness  \\\n",
       "0              pop  ...   6    -2.634     1       0.0583       0.10200   \n",
       "1              pop  ...  11    -4.969     1       0.0373       0.07240   \n",
       "2              pop  ...   1    -3.432     0       0.0742       0.07940   \n",
       "3              pop  ...   7    -3.778     1       0.1020       0.02870   \n",
       "4              pop  ...   1    -4.672     1       0.0359       0.08030   \n",
       "..             ...  ...  ..       ...   ...          ...           ...   \n",
       "995            pop  ...  10    -7.174     0       0.0751       0.01900   \n",
       "996            pop  ...   1    -7.608     0       0.0419       0.34900   \n",
       "997            pop  ...   8    -5.182     1       0.0349       0.00363   \n",
       "998            pop  ...   6    -6.062     0       0.0435       0.10700   \n",
       "999            pop  ...   6    -4.007     1       0.0673       0.00614   \n",
       "\n",
       "     instrumentalness  liveness  valence    tempo  duration_ms  \n",
       "0            0.000000    0.0653    0.518  122.036       194754  \n",
       "1            0.004210    0.3570    0.693   99.972       162600  \n",
       "2            0.000023    0.1100    0.613  124.008       176616  \n",
       "3            0.000009    0.2040    0.277  121.956       169093  \n",
       "4            0.000000    0.0833    0.725  123.976       189052  \n",
       "..                ...       ...      ...      ...          ...  \n",
       "995          0.000696    0.0554    0.720  123.004       185041  \n",
       "996          0.002150    0.1350    0.223  114.013       187368  \n",
       "997          0.000000    0.0659    0.397   80.059       183375  \n",
       "998          0.003720    0.2610    0.476  117.969       182034  \n",
       "999          0.775000    0.0351    0.679  123.986       181940  \n",
       "\n",
       "[1000 rows x 23 columns]"
      ]
     },
     "execution_count": 193,
     "metadata": {},
     "output_type": "execute_result"
    }
   ],
   "source": [
    "explorationDF"
   ]
  },
  {
   "cell_type": "code",
   "execution_count": 194,
   "id": "1a676c9e",
   "metadata": {},
   "outputs": [
    {
     "data": {
      "text/plain": [
       "Text(0.5, 0, 'Duration')"
      ]
     },
     "execution_count": 194,
     "metadata": {},
     "output_type": "execute_result"
    },
    {
     "data": {
      "image/png": "[encoded data removed]",
      "text/plain": [
       "<Figure size 432x288 with 1 Axes>"
      ]
     },
     "metadata": {
      "needs_background": "light"
     },
     "output_type": "display_data"
    }
   ],
   "source": [
    "explorationDF.duration_ms.plot.hist(bins = 25)\n",
    "plt.title(\"Song Length Counts\")\n",
    "plt.ylabel('Count')\n",
    "plt.xlabel('Duration')"
   ]
  },
  {
   "cell_type": "code",
   "execution_count": 195,
   "id": "ba91b4f2",
   "metadata": {},
   "outputs": [
    {
     "data": {
      "text/plain": [
       "Text(0.5, 0, 'Track Popularity Score')"
      ]
     },
     "execution_count": 195,
     "metadata": {},
     "output_type": "execute_result"
    },
    {
     "data": {
      "image/png": "[encoded data removed]",
      "text/plain": [
       "<Figure size 432x288 with 1 Axes>"
      ]
     },
     "metadata": {
      "needs_background": "light"
     },
     "output_type": "display_data"
    }
   ],
   "source": [
    "explorationDF.track_popularity.plot.hist(bins = 25)\n",
    "plt.title(\"Count of track popularities\")\n",
    "plt.ylabel('Count')\n",
    "plt.xlabel('Track Popularity Score')"
   ]
  },
  {
   "cell_type": "markdown",
   "id": "7705b9a4",
   "metadata": {},
   "source": [
    "The data is skewed towards having song popularities more towards the 75%"
   ]
  },
  {
   "cell_type": "code",
   "execution_count": 196,
   "id": "53d4f215",
   "metadata": {},
   "outputs": [
    {
     "data": {
      "text/plain": [
       "Text(0.5, 0, 'Tempo')"
      ]
     },
     "execution_count": 196,
     "metadata": {},
     "output_type": "execute_result"
    },
    {
     "data": {
      "image/png": "[encoded data removed]",
      "text/plain": [
       "<Figure size 432x288 with 1 Axes>"
      ]
     },
     "metadata": {
      "needs_background": "light"
     },
     "output_type": "display_data"
    }
   ],
   "source": [
    "explorationDF.tempo.plot.hist()\n",
    "plt.title(\"Cardinality of songs based on tempo\")\n",
    "plt.ylabel('Count')\n",
    "plt.xlabel('Tempo')"
   ]
  },
  {
   "cell_type": "markdown",
   "id": "4a184e90",
   "metadata": {},
   "source": [
    "Data is very skewed towards the 120 tempo range, there are not many songs that are a part of the other tempos"
   ]
  },
  {
   "cell_type": "code",
   "execution_count": 197,
   "id": "8b5faab5",
   "metadata": {},
   "outputs": [
    {
     "data": {
      "text/plain": [
       "Text(0.5, 0, 'Key')"
      ]
     },
     "execution_count": 197,
     "metadata": {},
     "output_type": "execute_result"
    },
    {
     "data": {
      "image/png": "[encoded data removed]",
      "text/plain": [
       "<Figure size 432x288 with 1 Axes>"
      ]
     },
     "metadata": {
      "needs_background": "light"
     },
     "output_type": "display_data"
    }
   ],
   "source": [
    "explorationDF.key.plot.hist()\n",
    "plt.title(\"Amount of songs per key\")\n",
    "plt.ylabel('Count')\n",
    "plt.xlabel('Key')"
   ]
  },
  {
   "cell_type": "markdown",
   "id": "ab105e56",
   "metadata": {},
   "source": [
    "A lot of the songs in the dataset are having a key of 0 which means they are primarily in note of C during the song."
   ]
  },
  {
   "cell_type": "code",
   "execution_count": 198,
   "id": "4c64716b",
   "metadata": {},
   "outputs": [
    {
     "data": {
      "text/plain": [
       "Text(0.5, 0, 'Date')"
      ]
     },
     "execution_count": 198,
     "metadata": {},
     "output_type": "execute_result"
    },
    {
     "data": {
      "image/png": "[encoded data removed]",
      "text/plain": [
       "<Figure size 432x288 with 1 Axes>"
      ]
     },
     "metadata": {
      "needs_background": "light"
     },
     "output_type": "display_data"
    }
   ],
   "source": [
    "sns.barplot(x='track_album_release_date', y='track_popularity', data=explorationDF)\n",
    "plt.title(\"Track popularity from Genre\")\n",
    "plt.ylabel('Popularity')\n",
    "plt.xlabel('Date')"
   ]
  },
  {
   "cell_type": "code",
   "execution_count": 199,
   "id": "e3c3df14",
   "metadata": {},
   "outputs": [
    {
     "data": {
      "text/plain": [
       "Text(0.5, 0, 'Loudness')"
      ]
     },
     "execution_count": 199,
     "metadata": {},
     "output_type": "execute_result"
    },
    {
     "data": {
      "image/png": "[encoded data removed]",
      "text/plain": [
       "<Figure size 432x288 with 1 Axes>"
      ]
     },
     "metadata": {
      "needs_background": "light"
     },
     "output_type": "display_data"
    }
   ],
   "source": [
    "sns.barplot(x='playlist_name', y='track_popularity', data=explorationDF)\n",
    "plt.title(\"Track popularity from Genre\")\n",
    "plt.ylabel('Popularity')\n",
    "plt.xlabel('Loudness')"
   ]
  },
  {
   "cell_type": "code",
   "execution_count": 200,
   "id": "9173e7f3",
   "metadata": {},
   "outputs": [
    {
     "data": {
      "text/plain": [
       "Text(0.5, 0, 'Genre')"
      ]
     },
     "execution_count": 200,
     "metadata": {},
     "output_type": "execute_result"
    },
    {
     "data": {
      "image/png": "[encoded data removed]",
      "text/plain": [
       "<Figure size 432x288 with 1 Axes>"
      ]
     },
     "metadata": {
      "needs_background": "light"
     },
     "output_type": "display_data"
    }
   ],
   "source": [
    "sns.barplot(x='playlist_name', y='acousticness', data=explorationDF)\n",
    "plt.title(\"Track popularity from Genre\")\n",
    "plt.ylabel('Acousticness value')\n",
    "plt.xlabel('Genre')"
   ]
  },
  {
   "cell_type": "code",
   "execution_count": 201,
   "id": "f111e727",
   "metadata": {},
   "outputs": [
    {
     "data": {
      "text/plain": [
       "Text(0.5, 0, 'Tempo')"
      ]
     },
     "execution_count": 201,
     "metadata": {},
     "output_type": "execute_result"
    },
    {
     "data": {
      "image/png": "[encoded data removed]",
      "text/plain": [
       "<Figure size 432x288 with 1 Axes>"
      ]
     },
     "metadata": {
      "needs_background": "light"
     },
     "output_type": "display_data"
    }
   ],
   "source": [
    "sns.barplot(x='tempo', y='key', data=explorationDF)\n",
    "plt.title(\"Key based off tempo\")\n",
    "plt.ylabel('Key')\n",
    "plt.xlabel('Tempo')"
   ]
  },
  {
   "cell_type": "code",
   "execution_count": 202,
   "id": "4ed72ffa",
   "metadata": {},
   "outputs": [
    {
     "data": {
      "text/plain": [
       "Text(0.5, 0, 'Loudness')"
      ]
     },
     "execution_count": 202,
     "metadata": {},
     "output_type": "execute_result"
    },
    {
     "data": {
      "image/png": "[encoded data removed]",
      "text/plain": [
       "<Figure size 432x288 with 1 Axes>"
      ]
     },
     "metadata": {
      "needs_background": "light"
     },
     "output_type": "display_data"
    }
   ],
   "source": [
    "sns.barplot(x='key', y='track_popularity', data=explorationDF)\n",
    "plt.title(\"Track popularity from loudness\")\n",
    "plt.ylabel('Popularity')\n",
    "plt.xlabel('Loudness')"
   ]
  },
  {
   "cell_type": "code",
   "execution_count": 203,
   "id": "7ab8fb07",
   "metadata": {},
   "outputs": [
    {
     "data": {
      "text/plain": [
       "Text(0.5, 0, 'Loudness')"
      ]
     },
     "execution_count": 203,
     "metadata": {},
     "output_type": "execute_result"
    },
    {
     "data": {
      "image/png": "[encoded data removed]",
      "text/plain": [
       "<Figure size 432x288 with 1 Axes>"
      ]
     },
     "metadata": {
      "needs_background": "light"
     },
     "output_type": "display_data"
    }
   ],
   "source": [
    "sns.barplot(x='loudness', y='track_popularity', data=explorationDF)\n",
    "plt.title(\"Track popularity from loudness\")\n",
    "plt.ylabel('Popularity')\n",
    "plt.xlabel('Loudness')"
   ]
  },
  {
   "cell_type": "code",
   "execution_count": 204,
   "id": "0f24200c",
   "metadata": {},
   "outputs": [
    {
     "data": {
      "text/plain": [
       "track_id                    0\n",
       "track_name                  0\n",
       "track_artist                0\n",
       "track_popularity            0\n",
       "track_album_id              0\n",
       "track_album_name            0\n",
       "track_album_release_date    0\n",
       "playlist_name               0\n",
       "playlist_id                 0\n",
       "playlist_genre              0\n",
       "playlist_subgenre           0\n",
       "danceability                0\n",
       "energy                      0\n",
       "key                         0\n",
       "loudness                    0\n",
       "mode                        0\n",
       "speechiness                 0\n",
       "acousticness                0\n",
       "instrumentalness            0\n",
       "liveness                    0\n",
       "valence                     0\n",
       "tempo                       0\n",
       "duration_ms                 0\n",
       "dtype: int64"
      ]
     },
     "execution_count": 204,
     "metadata": {},
     "output_type": "execute_result"
    }
   ],
   "source": [
    "data.isnull().sum()"
   ]
  },
  {
   "cell_type": "code",
   "execution_count": 205,
   "id": "13aa3d3b",
   "metadata": {},
   "outputs": [],
   "source": [
    "def preprocessInputs(df):\n",
    "    df = df.copy()\n",
    "    df = df.drop(['track_id', 'track_name', 'track_artist', 'track_album_id', 'track_album_name', \n",
    "                 'track_album_release_date', 'playlist_name', 'playlist_id', 'playlist_genre', 'playlist_subgenre'], axis=1)\n",
    "    \n",
    "    # Split the track_popularity, that's what I'm trying to predict\n",
    "    y = df['track_popularity']\n",
    "    X = df.drop('track_popularity', axis = 1)\n",
    "    \n",
    "    #Train-test split\n",
    "    X_train, X_test, y_train, y_test = train_test_split(X, y, train_size= .8, test_size = .2, random_state = 1)\n",
    "    \n",
    "    #Scale X\n",
    "    scaler = StandardScaler()\n",
    "    scaler.fit(X_train)\n",
    "    X_train = pd.DataFrame(scaler.transform(X_train), index=X_train.index, columns = X_train.columns)\n",
    "    X_test = pd.DataFrame(scaler.transform(X_test), index=X_test.index, columns = X_test.columns)\n",
    "    \n",
    "    return X_train, X_test, y_train, y_test"
   ]
  },
  {
   "cell_type": "code",
   "execution_count": 206,
   "id": "0ef4e8dd",
   "metadata": {},
   "outputs": [
    {
     "data": {
      "text/html": [
       "<div>\n",
       "<style scoped>\n",
       "    .dataframe tbody tr th:only-of-type {\n",
       "        vertical-align: middle;\n",
       "    }\n",
       "\n",
       "    .dataframe tbody tr th {\n",
       "        vertical-align: top;\n",
       "    }\n",
       "\n",
       "    .dataframe thead th {\n",
       "        text-align: right;\n",
       "    }\n",
       "</style>\n",
       "<table border=\"1\" class=\"dataframe\">\n",
       "  <thead>\n",
       "    <tr style=\"text-align: right;\">\n",
       "      <th></th>\n",
       "      <th>danceability</th>\n",
       "      <th>energy</th>\n",
       "      <th>key</th>\n",
       "      <th>loudness</th>\n",
       "      <th>mode</th>\n",
       "      <th>speechiness</th>\n",
       "      <th>acousticness</th>\n",
       "      <th>instrumentalness</th>\n",
       "      <th>liveness</th>\n",
       "      <th>valence</th>\n",
       "      <th>tempo</th>\n",
       "      <th>duration_ms</th>\n",
       "    </tr>\n",
       "  </thead>\n",
       "  <tbody>\n",
       "    <tr>\n",
       "      <th>20537</th>\n",
       "      <td>1.759273</td>\n",
       "      <td>1.383237</td>\n",
       "      <td>-1.212428</td>\n",
       "      <td>0.403620</td>\n",
       "      <td>0.875004</td>\n",
       "      <td>0.650009</td>\n",
       "      <td>2.350051</td>\n",
       "      <td>-0.378215</td>\n",
       "      <td>0.511824</td>\n",
       "      <td>1.785318</td>\n",
       "      <td>-1.014709</td>\n",
       "      <td>1.098202</td>\n",
       "    </tr>\n",
       "    <tr>\n",
       "      <th>19090</th>\n",
       "      <td>0.122039</td>\n",
       "      <td>-0.027488</td>\n",
       "      <td>1.273407</td>\n",
       "      <td>0.904816</td>\n",
       "      <td>0.875004</td>\n",
       "      <td>0.581062</td>\n",
       "      <td>1.743248</td>\n",
       "      <td>-0.378215</td>\n",
       "      <td>-0.470721</td>\n",
       "      <td>1.155227</td>\n",
       "      <td>2.062578</td>\n",
       "      <td>-0.381113</td>\n",
       "    </tr>\n",
       "    <tr>\n",
       "      <th>18907</th>\n",
       "      <td>1.532262</td>\n",
       "      <td>1.078963</td>\n",
       "      <td>0.168591</td>\n",
       "      <td>0.294955</td>\n",
       "      <td>0.875004</td>\n",
       "      <td>0.157532</td>\n",
       "      <td>0.041461</td>\n",
       "      <td>-0.378215</td>\n",
       "      <td>-0.554754</td>\n",
       "      <td>0.735167</td>\n",
       "      <td>-0.032290</td>\n",
       "      <td>-0.383329</td>\n",
       "    </tr>\n",
       "    <tr>\n",
       "      <th>32214</th>\n",
       "      <td>-1.432646</td>\n",
       "      <td>0.459350</td>\n",
       "      <td>-0.383816</td>\n",
       "      <td>0.081303</td>\n",
       "      <td>-1.142852</td>\n",
       "      <td>0.610610</td>\n",
       "      <td>-0.710884</td>\n",
       "      <td>0.714106</td>\n",
       "      <td>1.811110</td>\n",
       "      <td>-2.032087</td>\n",
       "      <td>0.349153</td>\n",
       "      <td>-0.896256</td>\n",
       "    </tr>\n",
       "    <tr>\n",
       "      <th>17766</th>\n",
       "      <td>0.624216</td>\n",
       "      <td>-0.381552</td>\n",
       "      <td>0.720999</td>\n",
       "      <td>0.055558</td>\n",
       "      <td>0.875004</td>\n",
       "      <td>-0.776204</td>\n",
       "      <td>-0.766089</td>\n",
       "      <td>-0.378215</td>\n",
       "      <td>-0.647837</td>\n",
       "      <td>-0.344988</td>\n",
       "      <td>-0.700694</td>\n",
       "      <td>-0.175415</td>\n",
       "    </tr>\n",
       "    <tr>\n",
       "      <th>...</th>\n",
       "      <td>...</td>\n",
       "      <td>...</td>\n",
       "      <td>...</td>\n",
       "      <td>...</td>\n",
       "      <td>...</td>\n",
       "      <td>...</td>\n",
       "      <td>...</td>\n",
       "      <td>...</td>\n",
       "      <td>...</td>\n",
       "      <td>...</td>\n",
       "      <td>...</td>\n",
       "      <td>...</td>\n",
       "    </tr>\n",
       "    <tr>\n",
       "      <th>21445</th>\n",
       "      <td>1.601053</td>\n",
       "      <td>-0.979036</td>\n",
       "      <td>-1.212428</td>\n",
       "      <td>-0.742209</td>\n",
       "      <td>0.875004</td>\n",
       "      <td>3.181339</td>\n",
       "      <td>-0.764310</td>\n",
       "      <td>-0.378215</td>\n",
       "      <td>-0.941308</td>\n",
       "      <td>0.482274</td>\n",
       "      <td>0.868894</td>\n",
       "      <td>-1.708213</td>\n",
       "    </tr>\n",
       "    <tr>\n",
       "      <th>7813</th>\n",
       "      <td>1.202063</td>\n",
       "      <td>-0.265375</td>\n",
       "      <td>0.997203</td>\n",
       "      <td>-0.956530</td>\n",
       "      <td>-1.142852</td>\n",
       "      <td>1.083388</td>\n",
       "      <td>-0.794636</td>\n",
       "      <td>-0.232424</td>\n",
       "      <td>-0.108731</td>\n",
       "      <td>0.233667</td>\n",
       "      <td>0.542307</td>\n",
       "      <td>0.629541</td>\n",
       "    </tr>\n",
       "    <tr>\n",
       "      <th>32516</th>\n",
       "      <td>-1.343218</td>\n",
       "      <td>0.990447</td>\n",
       "      <td>-0.383816</td>\n",
       "      <td>0.505932</td>\n",
       "      <td>-1.142852</td>\n",
       "      <td>-0.623536</td>\n",
       "      <td>-0.697652</td>\n",
       "      <td>1.886679</td>\n",
       "      <td>-0.218620</td>\n",
       "      <td>-0.242116</td>\n",
       "      <td>0.270425</td>\n",
       "      <td>-0.236864</td>\n",
       "    </tr>\n",
       "    <tr>\n",
       "      <th>5192</th>\n",
       "      <td>0.197709</td>\n",
       "      <td>-0.376020</td>\n",
       "      <td>-1.488632</td>\n",
       "      <td>-0.009975</td>\n",
       "      <td>-1.142852</td>\n",
       "      <td>-0.681648</td>\n",
       "      <td>0.598078</td>\n",
       "      <td>-0.377993</td>\n",
       "      <td>-0.567682</td>\n",
       "      <td>0.075073</td>\n",
       "      <td>-1.078844</td>\n",
       "      <td>-0.894873</td>\n",
       "    </tr>\n",
       "    <tr>\n",
       "      <th>12175</th>\n",
       "      <td>-1.095569</td>\n",
       "      <td>1.161947</td>\n",
       "      <td>1.549611</td>\n",
       "      <td>0.184284</td>\n",
       "      <td>-1.142852</td>\n",
       "      <td>-0.599897</td>\n",
       "      <td>-0.783426</td>\n",
       "      <td>-0.045614</td>\n",
       "      <td>5.153056</td>\n",
       "      <td>0.126509</td>\n",
       "      <td>0.048085</td>\n",
       "      <td>2.865963</td>\n",
       "    </tr>\n",
       "  </tbody>\n",
       "</table>\n",
       "<p>26262 rows × 12 columns</p>\n",
       "</div>"
      ],
      "text/plain": [
       "       danceability    energy       key  loudness      mode  speechiness  \\\n",
       "20537      1.759273  1.383237 -1.212428  0.403620  0.875004     0.650009   \n",
       "19090      0.122039 -0.027488  1.273407  0.904816  0.875004     0.581062   \n",
       "18907      1.532262  1.078963  0.168591  0.294955  0.875004     0.157532   \n",
       "32214     -1.432646  0.459350 -0.383816  0.081303 -1.142852     0.610610   \n",
       "17766      0.624216 -0.381552  0.720999  0.055558  0.875004    -0.776204   \n",
       "...             ...       ...       ...       ...       ...          ...   \n",
       "21445      1.601053 -0.979036 -1.212428 -0.742209  0.875004     3.181339   \n",
       "7813       1.202063 -0.265375  0.997203 -0.956530 -1.142852     1.083388   \n",
       "32516     -1.343218  0.990447 -0.383816  0.505932 -1.142852    -0.623536   \n",
       "5192       0.197709 -0.376020 -1.488632 -0.009975 -1.142852    -0.681648   \n",
       "12175     -1.095569  1.161947  1.549611  0.184284 -1.142852    -0.599897   \n",
       "\n",
       "       acousticness  instrumentalness  liveness   valence     tempo  \\\n",
       "20537      2.350051         -0.378215  0.511824  1.785318 -1.014709   \n",
       "19090      1.743248         -0.378215 -0.470721  1.155227  2.062578   \n",
       "18907      0.041461         -0.378215 -0.554754  0.735167 -0.032290   \n",
       "32214     -0.710884          0.714106  1.811110 -2.032087  0.349153   \n",
       "17766     -0.766089         -0.378215 -0.647837 -0.344988 -0.700694   \n",
       "...             ...               ...       ...       ...       ...   \n",
       "21445     -0.764310         -0.378215 -0.941308  0.482274  0.868894   \n",
       "7813      -0.794636         -0.232424 -0.108731  0.233667  0.542307   \n",
       "32516     -0.697652          1.886679 -0.218620 -0.242116  0.270425   \n",
       "5192       0.598078         -0.377993 -0.567682  0.075073 -1.078844   \n",
       "12175     -0.783426         -0.045614  5.153056  0.126509  0.048085   \n",
       "\n",
       "       duration_ms  \n",
       "20537     1.098202  \n",
       "19090    -0.381113  \n",
       "18907    -0.383329  \n",
       "32214    -0.896256  \n",
       "17766    -0.175415  \n",
       "...            ...  \n",
       "21445    -1.708213  \n",
       "7813      0.629541  \n",
       "32516    -0.236864  \n",
       "5192     -0.894873  \n",
       "12175     2.865963  \n",
       "\n",
       "[26262 rows x 12 columns]"
      ]
     },
     "execution_count": 206,
     "metadata": {},
     "output_type": "execute_result"
    }
   ],
   "source": [
    "X_train, X_test, y_train, y_test = preprocessInputs(data)\n",
    "X_train"
   ]
  },
  {
   "cell_type": "code",
   "execution_count": 207,
   "id": "6d20d2bb",
   "metadata": {},
   "outputs": [
    {
     "data": {
      "text/plain": [
       "20537    33\n",
       "19090    70\n",
       "18907    68\n",
       "32214    38\n",
       "17766    51\n",
       "         ..\n",
       "21445    74\n",
       "7813     25\n",
       "32516    47\n",
       "5192     40\n",
       "12175    46\n",
       "Name: track_popularity, Length: 26262, dtype: int64"
      ]
     },
     "execution_count": 207,
     "metadata": {},
     "output_type": "execute_result"
    }
   ],
   "source": [
    "y_train"
   ]
  },
  {
   "cell_type": "code",
   "execution_count": 208,
   "id": "2b67f9e8",
   "metadata": {},
   "outputs": [
    {
     "data": {
      "text/plain": [
       "danceability        1.442622e-15\n",
       "energy              3.256181e-16\n",
       "key                -3.463159e-17\n",
       "loudness           -1.373088e-16\n",
       "mode               -2.516201e-17\n",
       "speechiness        -2.218586e-17\n",
       "acousticness        1.425847e-16\n",
       "instrumentalness   -1.068709e-17\n",
       "liveness            4.870067e-18\n",
       "valence             2.429622e-16\n",
       "tempo               3.192599e-16\n",
       "duration_ms         1.938557e-16\n",
       "dtype: float64"
      ]
     },
     "execution_count": 208,
     "metadata": {},
     "output_type": "execute_result"
    }
   ],
   "source": [
    "X_train.mean()"
   ]
  },
  {
   "cell_type": "code",
   "execution_count": 209,
   "id": "c27796b5",
   "metadata": {},
   "outputs": [
    {
     "data": {
      "text/plain": [
       "danceability        1.000038\n",
       "energy              1.000038\n",
       "key                 1.000038\n",
       "loudness            1.000038\n",
       "mode                1.000038\n",
       "speechiness         1.000038\n",
       "acousticness        1.000038\n",
       "instrumentalness    1.000038\n",
       "liveness            1.000038\n",
       "valence             1.000038\n",
       "tempo               1.000038\n",
       "duration_ms         1.000038\n",
       "dtype: float64"
      ]
     },
     "execution_count": 209,
     "metadata": {},
     "output_type": "execute_result"
    }
   ],
   "source": [
    "X_train.var()"
   ]
  },
  {
   "cell_type": "code",
   "execution_count": 210,
   "id": "b49f9f65",
   "metadata": {},
   "outputs": [],
   "source": [
    "# Time to train the models"
   ]
  },
  {
   "cell_type": "code",
   "execution_count": 211,
   "id": "a55d6768",
   "metadata": {},
   "outputs": [],
   "source": [
    "models = {\n",
    "    \"Linear Regression\": LinearRegression(),\n",
    "    \"Logistic Regression\": LogisticRegression(),\n",
    "    \"K-Nearest Neighbors\": KNeighborsClassifier(),\n",
    "    \"Decision Tree\": DecisionTreeClassifier(),\n",
    "    \"Support Vector Machine (Linear Kernel)\": LinearSVC(),\n",
    "    \"Support Vector Machine (RBF Kernel)\": SVC(),\n",
    "    \"Neural Network\": MLPClassifier(),\n",
    "    \"Random Forest\": RandomForestClassifier(),\n",
    "    \"Gradient Boosting\": GradientBoostingClassifier()\n",
    "}"
   ]
  },
  {
   "cell_type": "code",
   "execution_count": 212,
   "id": "f16b70a7",
   "metadata": {},
   "outputs": [
    {
     "name": "stdout",
     "output_type": "stream",
     "text": [
      "Linear Regression trained.\n",
      "Logistic Regression trained.\n",
      "K-Nearest Neighbors trained.\n",
      "Decision Tree trained.\n",
      "Support Vector Machine (Linear Kernel) trained.\n",
      "Support Vector Machine (RBF Kernel) trained.\n",
      "Neural Network trained.\n",
      "Random Forest trained.\n",
      "Gradient Boosting trained.\n"
     ]
    }
   ],
   "source": [
    "for name, model in models.items():\n",
    "    model.fit(X_train, y_train)\n",
    "    print(name + \" trained.\")"
   ]
  },
  {
   "cell_type": "code",
   "execution_count": 213,
   "id": "2b49d698",
   "metadata": {},
   "outputs": [
    {
     "name": "stdout",
     "output_type": "stream",
     "text": [
      "Linear Regression: 7.20%\n",
      "Mean Absolute Error =  20.180292886898823\n",
      "Mean Squared Error =  582.0521935359664\n",
      "RMSE =  24.125757885214018\n",
      "r^2 =  0.07199004365983208\n",
      "\n",
      "Logistic Regression: 7.97%\n",
      "Mean Absolute Error =  41.322113920194944\n",
      "Mean Squared Error =  2339.5834602497716\n",
      "RMSE =  48.36924084839219\n",
      "r^2 =  -2.730175350101844\n",
      "\n",
      "K-Nearest Neighbors: 10.95%\n",
      "Mean Absolute Error =  28.227078891257996\n",
      "Mean Squared Error =  1291.743679561377\n",
      "RMSE =  35.94083582168585\n",
      "r^2 =  -1.0595249171556769\n",
      "\n",
      "Decision Tree: 21.50%\n",
      "Mean Absolute Error =  20.81449893390192\n",
      "Mean Squared Error =  855.4876637222053\n",
      "RMSE =  29.24872071941276\n",
      "r^2 =  -0.36396886443713594\n",
      "\n",
      "Support Vector Machine (Linear Kernel): 8.03%\n",
      "Mean Absolute Error =  40.605848309473046\n",
      "Mean Squared Error =  2282.6859579652755\n",
      "RMSE =  47.77746286655744\n",
      "r^2 =  -2.6394593469713845\n",
      "\n",
      "Support Vector Machine (RBF Kernel): 8.53%\n",
      "Mean Absolute Error =  41.86765153822723\n",
      "Mean Squared Error =  2387.4287237282974\n",
      "RMSE =  48.86132134652416\n",
      "r^2 =  -2.806458682361199\n",
      "\n",
      "Neural Network: 9.38%\n",
      "Mean Absolute Error =  33.05741699664941\n",
      "Mean Squared Error =  1687.878921717941\n",
      "RMSE =  41.08380364228635\n",
      "r^2 =  -1.691113377539684\n",
      "\n",
      "Random Forest: 25.18%\n",
      "Mean Absolute Error =  24.238044471519952\n",
      "Mean Squared Error =  1124.1524520255864\n",
      "RMSE =  33.52838278273479\n",
      "r^2 =  -0.7923215125887055\n",
      "\n",
      "Gradient Boosting: 15.82%\n",
      "Mean Absolute Error =  30.78632348461773\n",
      "Mean Squared Error =  1540.7381967712458\n",
      "RMSE =  39.252238111619135\n",
      "r^2 =  -1.4565157602639651\n",
      "\n"
     ]
    }
   ],
   "source": [
    "for name, model in models.items():\n",
    "    print(name + \": {:.2f}%\".format(model.score(X_test, y_test) * 100))\n",
    "    y_pred = model.predict(X_test)\n",
    "    print(\"Mean Absolute Error = \", mean_absolute_error(y_test, y_pred))\n",
    "    print(\"Mean Squared Error = \", mean_squared_error(y_test, y_pred))\n",
    "    print(\"RMSE = \", np.sqrt(mean_squared_error(y_test, y_pred)))\n",
    "    print(\"r^2 = \", r2_score(y_test, y_pred))\n",
    "    r2 = r2_score(y_test, y_pred)\n",
    "    print()"
   ]
  },
  {
   "cell_type": "code",
   "execution_count": 214,
   "id": "91884d5b",
   "metadata": {},
   "outputs": [],
   "source": [
    "# Model is producing rather bad results. So I'm going to change the data. \n",
    "# I will add a target column to the dataframe, where if the track_popularity is >= 50, the target = 1 (popular) \n",
    "# otherwise 0 (unpopular)\n",
    "\n",
    "data['Target'] = np.where(data['track_popularity'] >= 50, 1, 0)"
   ]
  },
  {
   "cell_type": "code",
   "execution_count": 215,
   "id": "12238b7b",
   "metadata": {},
   "outputs": [],
   "source": [
    "# Redefine Function to drop 'Target column'\n",
    "\n",
    "def preprocessInputs(df):\n",
    "    df = df.copy()\n",
    "    df = df.drop(['track_id', 'track_popularity', 'track_name', 'track_artist', 'track_album_id', 'track_album_name', \n",
    "                 'track_album_release_date', 'playlist_name', 'playlist_id', 'playlist_genre', 'playlist_subgenre'], axis=1)\n",
    "    \n",
    "    # Split the track_popularity, that's what I'm trying to predict\n",
    "    y = df['Target']\n",
    "    X = df.drop('Target', axis = 1)\n",
    "    \n",
    "    #Train-test split\n",
    "    X_train, X_test, y_train, y_test = train_test_split(X, y, train_size= .2, test_size = .2, random_state = 1)\n",
    "    \n",
    "    #Scale X\n",
    "    scaler = StandardScaler()\n",
    "    scaler.fit(X_train)\n",
    "    X_train = pd.DataFrame(scaler.transform(X_train), index=X_train.index, columns = X_train.columns)\n",
    "    X_test = pd.DataFrame(scaler.transform(X_test), index=X_test.index, columns = X_test.columns)\n",
    "    \n",
    "    return X_train, X_test, y_train, y_test"
   ]
  },
  {
   "cell_type": "code",
   "execution_count": 216,
   "id": "79166d9e",
   "metadata": {},
   "outputs": [],
   "source": [
    "X_train, X_test, y_train, y_test = preprocessInputs(data)"
   ]
  },
  {
   "cell_type": "code",
   "execution_count": 217,
   "id": "7997812c",
   "metadata": {},
   "outputs": [
    {
     "name": "stdout",
     "output_type": "stream",
     "text": [
      "Linear Regression trained.\n",
      "Logistic Regression trained.\n",
      "K-Nearest Neighbors trained.\n",
      "Decision Tree trained.\n",
      "Support Vector Machine (Linear Kernel) trained.\n",
      "Support Vector Machine (RBF Kernel) trained.\n",
      "Neural Network trained.\n",
      "Random Forest trained.\n",
      "Gradient Boosting trained.\n"
     ]
    }
   ],
   "source": [
    "for name, model in models.items():\n",
    "    model.fit(X_train, y_train)\n",
    "    print(name + \" trained.\")"
   ]
  },
  {
   "cell_type": "code",
   "execution_count": 218,
   "id": "7fc14078",
   "metadata": {},
   "outputs": [
    {
     "name": "stdout",
     "output_type": "stream",
     "text": [
      "Linear Regression: 4.80%\n",
      "Mean Absolute Error =  0.47055578762812056\n",
      "Mean Squared Error =  0.23502630833951574\n",
      "RMSE =  0.48479511996256286\n",
      "r^2 =  0.047998019946730364\n",
      "\n",
      "Logistic Regression: 59.76%\n",
      "Mean Absolute Error =  0.4023758757234237\n",
      "Mean Squared Error =  0.4023758757234237\n",
      "RMSE =  0.6343310458454826\n",
      "r^2 =  -0.6298712817332806\n",
      "\n",
      "K-Nearest Neighbors: 57.86%\n",
      "Mean Absolute Error =  0.42141334145598536\n",
      "Mean Squared Error =  0.42141334145598536\n",
      "RMSE =  0.6491635706476337\n",
      "r^2 =  -0.7069847980908355\n",
      "\n",
      "Decision Tree: 57.49%\n",
      "Mean Absolute Error =  0.4250685348766372\n",
      "Mean Squared Error =  0.4250685348766372\n",
      "RMSE =  0.6519728022522391\n",
      "r^2 =  -0.7217905932314861\n",
      "\n",
      "Support Vector Machine (Linear Kernel): 59.70%\n",
      "Mean Absolute Error =  0.40298507462686567\n",
      "Mean Squared Error =  0.40298507462686567\n",
      "RMSE =  0.6348110542727384\n",
      "r^2 =  -0.6323389142567224\n",
      "\n",
      "Support Vector Machine (RBF Kernel): 60.89%\n",
      "Mean Absolute Error =  0.3911056960097472\n",
      "Mean Squared Error =  0.3911056960097472\n",
      "RMSE =  0.6253844385733844\n",
      "r^2 =  -0.584220080049608\n",
      "\n",
      "Neural Network: 59.47%\n",
      "Mean Absolute Error =  0.4052695705147731\n",
      "Mean Squared Error =  0.4052695705147731\n",
      "RMSE =  0.6366078624355601\n",
      "r^2 =  -0.6415925362196289\n",
      "\n",
      "Random Forest: 63.40%\n",
      "Mean Absolute Error =  0.3659762412427658\n",
      "Mean Squared Error =  0.3659762412427658\n",
      "RMSE =  0.604959702164339\n",
      "r^2 =  -0.48243023845763555\n",
      "\n",
      "Gradient Boosting: 61.21%\n",
      "Mean Absolute Error =  0.3879074017666768\n",
      "Mean Squared Error =  0.3879074017666768\n",
      "RMSE =  0.6228221269083789\n",
      "r^2 =  -0.5712650093015388\n",
      "\n"
     ]
    }
   ],
   "source": [
    "for name, model in models.items():\n",
    "    print(name + \": {:.2f}%\".format(model.score(X_test, y_test) * 100))\n",
    "    y_pred = model.predict(X_test)\n",
    "    print(\"Mean Absolute Error = \", mean_absolute_error(y_test, y_pred))\n",
    "    print(\"Mean Squared Error = \", mean_squared_error(y_test, y_pred))\n",
    "    print(\"RMSE = \", np.sqrt(mean_squared_error(y_test, y_pred)))\n",
    "    print(\"r^2 = \", r2_score(y_test, y_pred))\n",
    "    r2 = r2_score(y_test, y_pred)\n",
    "    print()"
   ]
  },
  {
   "cell_type": "code",
   "execution_count": null,
   "id": "24acc663",
   "metadata": {},
   "outputs": [],
   "source": []
  }
 ],
 "metadata": {
  "kernelspec": {
   "display_name": "Python 3 (ipykernel)",
   "language": "python",
   "name": "python3"
  },
  "language_info": {
   "codemirror_mode": {
    "name": "ipython",
    "version": 3
   },
   "file_extension": ".py",
   "mimetype": "text/x-python",
   "name": "python",
   "nbconvert_exporter": "python",
   "pygments_lexer": "ipython3",
   "version": "3.9.5"
  }
 },
 "nbformat": 4,
 "nbformat_minor": 5
}
